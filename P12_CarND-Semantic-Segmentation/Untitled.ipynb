{
 "cells": [
  {
   "cell_type": "code",
   "execution_count": null,
   "metadata": {
    "collapsed": true
   },
   "outputs": [],
   "source": [
    "import tensorflow as tf\n",
    "from tensorflow.python.platform import gfile\n",
    "from tensorflow.core.protobuf import saved_model_pb2\n",
    "from tensorflow.python.util import compat\n",
    "\n",
    "with tf.Session() as sess:\n",
    "    model_filename ='saved_model.pb'\n",
    "    with gfile.FastGFile(model_filename, 'rb') as f:\n",
    "        data = compat.as_bytes(f.read())\n",
    "        sm = saved_model_pb2.SavedModel()\n",
    "        sm.ParseFromString(data)\n",
    "        g_in = tf.import_graph_def(sm.meta_graphs[0].graph_def)\n",
    "\n",
    "LOGDIR='.'\n",
    "train_writer = tf.summary.FileWriter(LOGDIR)\n",
    "train_writer.add_graph(sess.graph)"
   ]
  }
 ],
 "metadata": {
  "kernelspec": {
   "display_name": "Python 3",
   "language": "python",
   "name": "python3"
  },
  "language_info": {
   "codemirror_mode": {
    "name": "ipython",
    "version": 3
   },
   "file_extension": ".py",
   "mimetype": "text/x-python",
   "name": "python",
   "nbconvert_exporter": "python",
   "pygments_lexer": "ipython3",
   "version": "3.6.1"
  }
 },
 "nbformat": 4,
 "nbformat_minor": 2
}
