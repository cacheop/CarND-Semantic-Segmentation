{
 "cells": [
  {
   "cell_type": "code",
   "execution_count": 1,
   "metadata": {
    "collapsed": true
   },
   "outputs": [],
   "source": [
    "import os.path\n",
    "import imageio\n",
    "import tqdm\n",
    "import tensorflow as tf\n",
    "import helper\n",
    "import warnings\n",
    "from distutils.version import LooseVersion\n",
    "import project_tests as tests\n",
    "import scipy.misc\n",
    "import numpy as np\n",
    "\n",
    "imageio.plugins.ffmpeg.download()\n",
    "from moviepy.editor import VideoFileClip\n",
    "from IPython.display import HTML\n",
    "\n",
    "LEARNING_RATE = 1e-4\n",
    "KEEP_PROB = 0.5\n"
   ]
  },
  {
   "cell_type": "code",
   "execution_count": 2,
   "metadata": {},
   "outputs": [
    {
     "name": "stdout",
     "output_type": "stream",
     "text": [
      "TensorFlow Version: 1.2.1\n",
      "Default GPU Device: /gpu:0\n"
     ]
    }
   ],
   "source": [
    "# Check TensorFlow Version\n",
    "assert LooseVersion(tf.__version__) >= LooseVersion('1.0'), 'Please use TensorFlow version 1.0 or newer.  You are using {}'.format(tf.__version__)\n",
    "print('TensorFlow Version: {}'.format(tf.__version__))\n",
    "\n",
    "# Check for a GPU\n",
    "if not tf.test.gpu_device_name():\n",
    "    warnings.warn('No GPU found. Please use a GPU to train your neural network.')\n",
    "else:\n",
    "    print('Default GPU Device: {}'.format(tf.test.gpu_device_name()))"
   ]
  },
  {
   "cell_type": "code",
   "execution_count": 3,
   "metadata": {
    "collapsed": true
   },
   "outputs": [],
   "source": [
    "def load_vgg(sess, vgg_path):\n",
    "    \"\"\"\n",
    "    Load Pretrained VGG Model into TensorFlow.\n",
    "    :param sess: TensorFlow Session\n",
    "    :param vgg_path: Path to vgg folder, containing \"variables/\" and \"saved_model.pb\"\n",
    "    :return: Tuple of Tensors from VGG model (image_input, keep_prob, layer3_out, layer4_out, layer7_out)\n",
    "    \"\"\"    \n",
    "    vgg_tag = 'vgg16'\n",
    "    tf.saved_model.loader.load(sess, [vgg_tag], vgg_path)\n",
    "\n",
    "    vgg_input_tensor_name = 'image_input:0'\n",
    "    vgg_keep_prob_tensor_name = 'keep_prob:0'\n",
    "    vgg_layer3_out_tensor_name = 'layer3_out:0'\n",
    "    vgg_layer4_out_tensor_name = 'layer4_out:0'\n",
    "    vgg_layer7_out_tensor_name = 'layer7_out:0'\n",
    "    \n",
    "    graph = tf.get_default_graph()\n",
    "    \n",
    "    vgg_input = graph.get_tensor_by_name(vgg_input_tensor_name)\n",
    "    vgg_keep_prob = graph.get_tensor_by_name(vgg_keep_prob_tensor_name)\n",
    "    vgg_layer3_out = graph.get_tensor_by_name(vgg_layer3_out_tensor_name)\n",
    "    vgg_layer4_out = graph.get_tensor_by_name(vgg_layer4_out_tensor_name)\n",
    "    vgg_layer7_out = graph.get_tensor_by_name(vgg_layer7_out_tensor_name)\n",
    "\n",
    "    return vgg_input, vgg_keep_prob, vgg_layer3_out, vgg_layer4_out, vgg_layer7_out"
   ]
  },
  {
   "cell_type": "code",
   "execution_count": 5,
   "metadata": {
    "collapsed": true
   },
   "outputs": [],
   "source": [
    "def layers(vgg_layer3_out, vgg_layer4_out, vgg_layer7_out, num_classes):\n",
    "    \"\"\"\n",
    "    Create the layers for a fully convolutional network.  Build skip-layers using the vgg layers.\n",
    "    :param vgg_layer3_out: TF Tensor for VGG Layer 3 output\n",
    "    :param vgg_layer4_out: TF Tensor for VGG Layer 4 output\n",
    "    :param vgg_layer7_out: TF Tensor for VGG Layer 7 output\n",
    "    :param num_classes: Number of classes to classify\n",
    "    :return: The Tensor for the last layer of output\n",
    "    \"\"\"\n",
    "    layer7_1x1 = tf.layers.conv2d(vgg_layer7_out, num_classes, 1, \n",
    "                                padding='same',\n",
    "                                name=\"layer7_1x1\",\n",
    "                                kernel_initializer= tf.random_normal_initializer(stddev=0.01),\n",
    "                                kernel_regularizer=tf.contrib.layers.l2_regularizer(1e-3))  \n",
    "    layer4_1x1 = tf.layers.conv2d(vgg_layer4_out, num_classes, 1, \n",
    "                                name=\"layer4_1x1\",\n",
    "                                padding= 'same',\n",
    "                                kernel_initializer= tf.random_normal_initializer(stddev=0.01), \n",
    "                                kernel_regularizer= tf.contrib.layers.l2_regularizer(1e-3))    \n",
    "    layer3_1x1 = tf.layers.conv2d(vgg_layer3_out, num_classes, 1, \n",
    "                                name=\"layer3_1x1\",\n",
    "                                padding= 'same',\n",
    "                                kernel_initializer= tf.random_normal_initializer(stddev=0.01), \n",
    "                                kernel_regularizer= tf.contrib.layers.l2_regularizer(1e-3))    \n",
    "    layer7_1x1_transp = tf.layers.conv2d_transpose(layer7_1x1, num_classes, 4, 2, \n",
    "                                name=\"layer7_1x1_transp\",\n",
    "                                padding= 'same',\n",
    "                                kernel_initializer= tf.random_normal_initializer(stddev=0.01), \n",
    "                                kernel_regularizer= tf.contrib.layers.l2_regularizer(1e-3))\n",
    "    layer7_4_skip = tf.add(layer7_1x1_transp, layer4_1x1)  # 1st skip layer\n",
    "    layer7_4_skip_1x1_transp = tf.layers.conv2d_transpose(layer7_4_skip, num_classes, 4,2 , \n",
    "                                name=\"layer7_4_skip_1x1_transp\",\n",
    "                                padding= 'same',\n",
    "                                kernel_initializer= tf.random_normal_initializer(stddev=0.01), \n",
    "                                kernel_regularizer= tf.contrib.layers.l2_regularizer(1e-3))\n",
    "    layer7_4_3_skip = tf.add(layer7_4_skip_1x1_transp, layer3_1x1)  # 2nd skip layer    \n",
    "    layer7_4_3_transpose = tf.layers.conv2d_transpose(layer7_4_3_skip, num_classes, 16, 8, \n",
    "                                name=\"layer7_4_3_transpose\",\n",
    "                                padding= 'same',\n",
    "                                kernel_initializer= tf.random_normal_initializer(stddev=0.01), \n",
    "                                kernel_regularizer= tf.contrib.layers.l2_regularizer(1e-3))\n",
    "    return layer7_4_3_transpose"
   ]
  },
  {
   "cell_type": "code",
   "execution_count": 6,
   "metadata": {
    "collapsed": true
   },
   "outputs": [],
   "source": [
    "def optimize(nn_last_layer, correct_label, learning_rate, num_classes):\n",
    "    \"\"\"\n",
    "    Build the TensorFLow loss and optimizer operations.\n",
    "    :param nn_last_layer: TF Tensor of the last layer in the neural network\n",
    "    :param correct_label: TF Placeholder for the correct label image\n",
    "    :param learning_rate: TF Placeholder for the learning rate\n",
    "    :param num_classes: Number of classes to classify\n",
    "    :return: Tuple of (logits, train_op, cross_entropy_loss)\n",
    "    \"\"\"    \n",
    "    logits = tf.reshape(nn_last_layer, (-1, num_classes))\n",
    "    labels = tf.reshape(correct_label, (-1, num_classes))\n",
    "    cross_entropy_loss = tf.reduce_mean(tf.nn.softmax_cross_entropy_with_logits(logits=logits, labels=labels))\n",
    "    optimizer = tf.train.AdamOptimizer(learning_rate).minimize(cross_entropy_loss)\n",
    "\n",
    "    return logits, optimizer, cross_entropy_loss"
   ]
  },
  {
   "cell_type": "code",
   "execution_count": 7,
   "metadata": {
    "collapsed": true
   },
   "outputs": [],
   "source": [
    "def train_nn(sess, epochs, batch_size, get_batches_fn, train_op, cross_entropy_loss, input_image,\n",
    "             correct_label, keep_prob, learning_rate):\n",
    "    \"\"\"\n",
    "    Train neural network and print out the loss during training.\n",
    "    :param sess: TF Session\n",
    "    :param epochs: Number of epochs\n",
    "    :param batch_size: Batch size\n",
    "    :param get_batches_fn: Function to get batches of training data.  Call using get_batches_fn(batch_size)\n",
    "    :param train_op: TF Operation to train the neural network\n",
    "    :param cross_entropy_loss: TF Tensor for the amount of loss\n",
    "    :param input_image: TF Placeholder for input images\n",
    "    :param correct_label: TF Placeholder for label images\n",
    "    :param keep_prob: TF Placeholder for dropout keep probability\n",
    "    :param learning_rate: TF Placeholder for learning rate\n",
    "    \"\"\"\n",
    "            \n",
    "    for epoch in range(epochs):\n",
    "        for batch, (image, label) in enumerate(get_batches_fn(batch_size)):\n",
    "            feed_dict = {input_image: image, correct_label: label, keep_prob: 0.5, learning_rate: 1e-4}\n",
    "            _, loss = sess.run([train_op, cross_entropy_loss], feed_dict=feed_dict)\n",
    "            print('epoch: ', epoch, ' batch: ', batch, ' loss: ', loss, flush=True)\n",
    "\n",
    "    pass"
   ]
  },
  {
   "cell_type": "code",
   "execution_count": 8,
   "metadata": {
    "collapsed": true
   },
   "outputs": [],
   "source": [
    "def frame_inference(frame, sess, image_shape, logits, keep_prob, input_image):\n",
    "    image = scipy.misc.imresize(frame, image_shape)\n",
    "        \n",
    "    im_softmax = sess.run(\n",
    "            [tf.nn.softmax(logits)],\n",
    "            {keep_prob: 1.0, input_image: [image]})\n",
    "    im_softmax = im_softmax[0][:, 1].reshape(image_shape[0], image_shape[1])\n",
    "    segmentation = (im_softmax > 0.5).reshape(image_shape[0], image_shape[1], 1)\n",
    "    mask = np.dot(segmentation, np.array([[0, 255, 0, 127]]))\n",
    "    mask = scipy.misc.toimage(mask, mode=\"RGBA\")\n",
    "    street_im = scipy.misc.toimage(image)\n",
    "    street_im.paste(mask, box=None, mask=mask)\n",
    "    \n",
    "    return np.array(street_im)\n",
    "\n",
    "def video_pipeline(clip, sess, image_shape, logits, keep_prob, input_image):\n",
    "    def image_pipeline(frame):\n",
    "        return frame_inference(frame, sess, image_shape, logits, keep_prob, input_image)\n",
    "    \n",
    "    return clip.fl_image(image_pipeline)\n",
    "\n",
    "def process_video(sess, image_shape, logits, keep_prob, input_image, input_video):\n",
    "    in_vid  = 'data/videos/' + input_video\n",
    "    out_vid = 'runs/videos/out_'+ input_video\n",
    "    clip = VideoFileClip(in_vid)\n",
    "    #clip = clip.subclip(15,20)\n",
    "    video_clip = clip.fx (video_pipeline, sess, image_shape, logits, keep_prob, input_image)\n",
    "    video_clip.write_videofile(out_vid, audio=False)\n",
    "    \n",
    "    pass"
   ]
  },
  {
   "cell_type": "code",
   "execution_count": 10,
   "metadata": {
    "collapsed": true
   },
   "outputs": [],
   "source": [
    "def run():\n",
    "    num_classes = 2\n",
    "    image_shape = (160, 576)\n",
    "    data_dir = './data'\n",
    "    runs_dir = './runs'\n",
    "    tests.test_for_kitti_dataset(data_dir)\n",
    "    train_model = False\n",
    "    load_model = True\n",
    "\n",
    "    learning_rate = tf.placeholder(tf.float32)\n",
    "    correct_label = tf.placeholder(tf.int32, [None, None, None, num_classes])\n",
    "\n",
    "    # Download pretrained vgg model\n",
    "    helper.maybe_download_pretrained_vgg(data_dir)\n",
    "\n",
    "    epochs = 55\n",
    "    batch_size = 16\n",
    "\n",
    "    with tf.Session() as sess:\n",
    "        # Path to vgg model\n",
    "        vgg_path = os.path.join(data_dir, 'vgg')\n",
    "        \n",
    "        # Create function to get batches\n",
    "        get_batches_fn = helper.gen_batch_function(os.path.join(data_dir, 'data_road/training'), image_shape)\n",
    "\n",
    "        # OPTIONAL: Augment Images for better results\n",
    "        #  https://datascience.stackexchange.com/questions/5224/how-to-prepare-augment-images-for-neural-network\n",
    "\n",
    "        # Build NN using load_vgg, layers, and optimize function\n",
    "        input_image, vgg_keep_prob, vgg_layer3_out, vgg_layer4_out, vgg_layer7_out = load_vgg(sess, vgg_path)\n",
    "        nn_last_layer = layers(vgg_layer3_out, vgg_layer4_out, vgg_layer7_out, num_classes)\n",
    "        logits, train_op, cross_entropy_loss = optimize(nn_last_layer, correct_label, learning_rate, num_classes)\n",
    "\n",
    "        sess.run(tf.global_variables_initializer())\n",
    "        saver = tf.train.Saver()\n",
    "\n",
    "        if (train_model):\n",
    "            \n",
    "            # Train NN using the train_nn function\n",
    "            train_nn(sess, epochs, batch_size, get_batches_fn, \n",
    "                     train_op, cross_entropy_loss, input_image,\n",
    "                     correct_label, vgg_keep_prob, learning_rate)\n",
    "            \n",
    "            save_path = saver.save(sess, \"./saved_network\")\n",
    "            \n",
    "        elif (load_model):\n",
    " \n",
    "            # Skip the training and load saved trained network instead\n",
    "            checkpoint = tf.train.get_checkpoint_state(\"saved_network\")\n",
    "            print(\"----------------\", checkpoint)\n",
    "            if checkpoint and checkpoint.model_checkpoint_path:\n",
    "                saver.restore(sess, checkpoint.model_checkpoint_path)\n",
    "                print(\"successfuly loaded trained network:\", checkpoint.model_checkpoint_path)\n",
    "            else:\n",
    "                print(\"trained network could not be found!\")\n",
    "            \n",
    "\n",
    "        # Save inference data using helper.save_inference_samples\n",
    "        helper.save_inference_samples(runs_dir, data_dir, sess, image_shape, logits, vgg_keep_prob, input_image)\n",
    "\n",
    "        # Apply the trained model to a video\n",
    "        input_video = 'challenge_video.mp4'\n",
    "        process_video(sess, image_shape, logits, vgg_keep_prob, input_image, input_video)\n",
    "         \n",
    "        input_video = 'harder_challenge_video.mp4'\n",
    "        process_video(sess, image_shape, logits, vgg_keep_prob, input_image, input_video)\n"
   ]
  },
  {
   "cell_type": "code",
   "execution_count": 11,
   "metadata": {
    "scrolled": false
   },
   "outputs": [
    {
     "name": "stdout",
     "output_type": "stream",
     "text": [
      "Tests Passed\n",
      "INFO:tensorflow:Restoring parameters from b'./data/vgg/variables/variables'\n",
      "---------------- model_checkpoint_path: \"saved_network/net1\"\n",
      "all_model_checkpoint_paths: \"saved_network/net1\"\n",
      "\n",
      "INFO:tensorflow:Restoring parameters from saved_network/net1\n",
      "successfuly loaded trained network: saved_network/net1\n",
      "[MoviePy] >>>> Building video runs/videos/out_challenge_video.mp4\n",
      "[MoviePy] Writing video runs/videos/out_challenge_video.mp4\n"
     ]
    },
    {
     "name": "stderr",
     "output_type": "stream",
     "text": [
      "100%|██████████| 485/485 [06:12<00:00,  1.30it/s]"
     ]
    },
    {
     "name": "stdout",
     "output_type": "stream",
     "text": [
      "[MoviePy] Done.\n",
      "[MoviePy] >>>> Video ready: runs/videos/out_challenge_video.mp4 \n",
      "\n"
     ]
    },
    {
     "name": "stderr",
     "output_type": "stream",
     "text": [
      "\n"
     ]
    },
    {
     "name": "stdout",
     "output_type": "stream",
     "text": [
      "[MoviePy] >>>> Building video runs/videos/out_harder_challenge_video.mp4\n",
      "[MoviePy] Writing video runs/videos/out_harder_challenge_video.mp4\n"
     ]
    },
    {
     "name": "stderr",
     "output_type": "stream",
     "text": [
      "100%|█████████▉| 1199/1200 [15:42<00:00,  1.26it/s]\n"
     ]
    },
    {
     "name": "stdout",
     "output_type": "stream",
     "text": [
      "[MoviePy] Done.\n",
      "[MoviePy] >>>> Video ready: runs/videos/out_harder_challenge_video.mp4 \n",
      "\n"
     ]
    }
   ],
   "source": [
    "if __name__ == '__main__':\n",
    "    run()"
   ]
  },
  {
   "cell_type": "code",
   "execution_count": null,
   "metadata": {
    "collapsed": true
   },
   "outputs": [],
   "source": []
  }
 ],
 "metadata": {
  "kernelspec": {
   "display_name": "Python 3",
   "language": "python",
   "name": "python3"
  },
  "language_info": {
   "codemirror_mode": {
    "name": "ipython",
    "version": 3
   },
   "file_extension": ".py",
   "mimetype": "text/x-python",
   "name": "python",
   "nbconvert_exporter": "python",
   "pygments_lexer": "ipython3",
   "version": "3.6.1"
  },
  "varInspector": {
   "cols": {
    "lenName": 16,
    "lenType": 16,
    "lenVar": 40
   },
   "kernels_config": {
    "python": {
     "delete_cmd_postfix": "",
     "delete_cmd_prefix": "del ",
     "library": "var_list.py",
     "varRefreshCmd": "print(var_dic_list())"
    },
    "r": {
     "delete_cmd_postfix": ") ",
     "delete_cmd_prefix": "rm(",
     "library": "var_list.r",
     "varRefreshCmd": "cat(var_dic_list()) "
    }
   },
   "types_to_exclude": [
    "module",
    "function",
    "builtin_function_or_method",
    "instance",
    "_Feature"
   ],
   "window_display": false
  }
 },
 "nbformat": 4,
 "nbformat_minor": 2
}
